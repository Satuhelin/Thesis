{
 "cells": [
  {
   "cell_type": "markdown",
   "metadata": {},
   "source": [
    "## Scraping the visits of the US and Chinese presidents"
   ]
  },
  {
   "cell_type": "code",
   "execution_count": 1,
   "metadata": {},
   "outputs": [],
   "source": [
    "#importing the libraries\n",
    "import pandas as pd\n",
    "%matplotlib inline\n",
    "import requests\n",
    "from bs4 import BeautifulSoup"
   ]
  },
  {
   "cell_type": "markdown",
   "metadata": {},
   "source": [
    "# US visits"
   ]
  },
  {
   "cell_type": "markdown",
   "metadata": {},
   "source": [
    "US presidential visits are annonced on this Office of the Historian webpage https://history.state.gov/departmenthistory/travels/president until December 2018. After that the page hasn't been updated but we can get all the visits before that. \n"
   ]
  },
  {
   "cell_type": "code",
   "execution_count": 2,
   "metadata": {},
   "outputs": [],
   "source": [
    "#the visits are in a table so I used the IMPORTHTML-function is sheets and scraped the tables of Bush, Obama and Trump with that and then combined them.\n",
    "df2=pd.read_csv(\"../data/US STATE VISITS 2001-2018 - Sheet1.csv\")"
   ]
  },
  {
   "cell_type": "code",
   "execution_count": 3,
   "metadata": {},
   "outputs": [
    {
     "data": {
      "text/html": [
       "<div>\n",
       "<style scoped>\n",
       "    .dataframe tbody tr th:only-of-type {\n",
       "        vertical-align: middle;\n",
       "    }\n",
       "\n",
       "    .dataframe tbody tr th {\n",
       "        vertical-align: top;\n",
       "    }\n",
       "\n",
       "    .dataframe thead th {\n",
       "        text-align: right;\n",
       "    }\n",
       "</style>\n",
       "<table border=\"1\" class=\"dataframe\">\n",
       "  <thead>\n",
       "    <tr style=\"text-align: right;\">\n",
       "      <th></th>\n",
       "      <th>Country</th>\n",
       "      <th>Locale</th>\n",
       "      <th>Remarks</th>\n",
       "      <th>Date</th>\n",
       "      <th>Unnamed: 4</th>\n",
       "    </tr>\n",
       "  </thead>\n",
       "  <tbody>\n",
       "    <tr>\n",
       "      <th>0</th>\n",
       "      <td>Mexico</td>\n",
       "      <td>San Cristobal</td>\n",
       "      <td>Meeting with President Fox.</td>\n",
       "      <td>February 16, 2001</td>\n",
       "      <td>W. BUSH</td>\n",
       "    </tr>\n",
       "    <tr>\n",
       "      <th>1</th>\n",
       "      <td>Canada</td>\n",
       "      <td>Quebec</td>\n",
       "      <td>Attended the Summit of the Americas.</td>\n",
       "      <td>April 20–22, 2001</td>\n",
       "      <td>W. BUSH</td>\n",
       "    </tr>\n",
       "    <tr>\n",
       "      <th>2</th>\n",
       "      <td>Spain</td>\n",
       "      <td>Madrid</td>\n",
       "      <td>Met with King Juan Carlos I and President Aznar.</td>\n",
       "      <td>June 12–13, 2001</td>\n",
       "      <td>W. BUSH</td>\n",
       "    </tr>\n",
       "    <tr>\n",
       "      <th>3</th>\n",
       "      <td>Belgium</td>\n",
       "      <td>Brussels</td>\n",
       "      <td>Attended NATO Summit Meeting.</td>\n",
       "      <td>June 13–14, 2001</td>\n",
       "      <td>W. BUSH</td>\n",
       "    </tr>\n",
       "    <tr>\n",
       "      <th>4</th>\n",
       "      <td>Sweden</td>\n",
       "      <td>Goteborg</td>\n",
       "      <td>Attended U.S.-European Union Summit Meeting; m...</td>\n",
       "      <td>June 14–15, 2001</td>\n",
       "      <td>W. BUSH</td>\n",
       "    </tr>\n",
       "  </tbody>\n",
       "</table>\n",
       "</div>"
      ],
      "text/plain": [
       "   Country         Locale                                            Remarks  \\\n",
       "0   Mexico  San Cristobal                        Meeting with President Fox.   \n",
       "1   Canada         Quebec               Attended the Summit of the Americas.   \n",
       "2    Spain         Madrid   Met with King Juan Carlos I and President Aznar.   \n",
       "3  Belgium       Brussels                      Attended NATO Summit Meeting.   \n",
       "4   Sweden       Goteborg  Attended U.S.-European Union Summit Meeting; m...   \n",
       "\n",
       "                Date Unnamed: 4  \n",
       "0  February 16, 2001    W. BUSH  \n",
       "1  April 20–22, 2001    W. BUSH  \n",
       "2   June 12–13, 2001    W. BUSH  \n",
       "3   June 13–14, 2001    W. BUSH  \n",
       "4   June 14–15, 2001    W. BUSH  "
      ]
     },
     "execution_count": 3,
     "metadata": {},
     "output_type": "execute_result"
    }
   ],
   "source": [
    "#t looks like this\n",
    "df2.head()"
   ]
  },
  {
   "cell_type": "markdown",
   "metadata": {},
   "source": [
    "Since the data finishes to December 2018 I then collected the rest of the event from the news sources and added to the frame by hand."
   ]
  },
  {
   "cell_type": "markdown",
   "metadata": {},
   "source": [
    "## Scraping China visits\n"
   ]
  },
  {
   "cell_type": "markdown",
   "metadata": {},
   "source": [
    "The visits by Chinese presidents can be tracked via China Vitae http://www.chinavitae.com that tracks appearences and traveling of Chinese VIP's and annonces them. \n",
    "I use BeautiflSoup for scraping the trips"
   ]
  },
  {
   "cell_type": "code",
   "execution_count": 4,
   "metadata": {},
   "outputs": [],
   "source": [
    "def scrape_visit_link(visit_link):\n",
    "    r2 = requests.get(visit_link)\n",
    "    soup2 = BeautifulSoup(r2.content, \"html.parser\")\n",
    "    info_table = soup2.find_all(\"table\")[1].find(\"table\")\n",
    "    row_dict = {}\n",
    "    for row in info_table.find_all(\"tr\"):\n",
    "        category = row.find(\"b\").string.strip().strip(\":\")\n",
    "        if category == \"Source\":\n",
    "            info = row.find(\"a\")[\"href\"]\n",
    "        elif category == \"Attendees\":\n",
    "            links = row.find_all('a')\n",
    "            info = [ l.string for l in links ]\n",
    "        else:\n",
    "            info = row.find_all(\"td\")[1].string\n",
    "        row_dict[category] = info\n",
    "    return row_dict"
   ]
  },
  {
   "cell_type": "code",
   "execution_count": 5,
   "metadata": {},
   "outputs": [],
   "source": [
    "def scrape_china_visits(pres_link):\n",
    "    visit_dicts = []\n",
    "    r = requests.get(pres_link)\n",
    "    soup = BeautifulSoup(r.content, \"html.parser\")\n",
    "    all_links = soup.findAll(\"a\")\n",
    "    complete_links =  []\n",
    "    for al in all_links:\n",
    "        if al.string == \"View complete entry\":\n",
    "            complete_links.append(al)\n",
    "    for cl in complete_links:\n",
    "        visit_link = \"http://www.chinavitae.com/\" + cl[\"href\"]\n",
    "        visit_dict = scrape_visit_link(visit_link)\n",
    "        visit_dicts.append(visit_dict)\n",
    "    return visit_dicts"
   ]
  },
  {
   "cell_type": "code",
   "execution_count": 8,
   "metadata": {},
   "outputs": [
    {
     "name": "stdout",
     "output_type": "stream",
     "text": [
      "2003\n",
      "2004\n",
      "2005\n",
      "2006\n",
      "2007\n",
      "2008\n",
      "2009\n",
      "2010\n",
      "2011\n",
      "2012\n",
      "2013\n",
      "2014\n",
      "2015\n",
      "2016\n",
      "2017\n",
      "2018\n",
      "2019\n"
     ]
    }
   ],
   "source": [
    "all_visits = []\n",
    "y = 2003\n",
    "while y <= 2019:\n",
    "    print(y)\n",
    "    #President Hu Jintao\n",
    "    if y < 2013:\n",
    "        pres_id = 19 \n",
    "    elif y <= 2019:\n",
    "        #President Xi Jinping\n",
    "        pres_id = 303\n",
    "    pres_link = \"http://www.chinavitae.com/vip/index.php?mode=events&type=cv&id={}&filter_year={}\".format(pres_id, y)\n",
    "    visits = scrape_china_visits(pres_link)\n",
    "    all_visits.append(visits)\n",
    "    y += 1\n",
    "#president Jiang Zemin left power in March 2003 so his visits 2001 and 2002 have to be researched individually.    "
   ]
  },
  {
   "cell_type": "code",
   "execution_count": 9,
   "metadata": {},
   "outputs": [],
   "source": [
    "visits = [item for y in all_visits for item in y]\n",
    "visits_df = pd.DataFrame(visits)"
   ]
  },
  {
   "cell_type": "code",
   "execution_count": 10,
   "metadata": {},
   "outputs": [
    {
     "data": {
      "text/html": [
       "<div>\n",
       "<style scoped>\n",
       "    .dataframe tbody tr th:only-of-type {\n",
       "        vertical-align: middle;\n",
       "    }\n",
       "\n",
       "    .dataframe tbody tr th {\n",
       "        vertical-align: top;\n",
       "    }\n",
       "\n",
       "    .dataframe thead th {\n",
       "        text-align: right;\n",
       "    }\n",
       "</style>\n",
       "<table border=\"1\" class=\"dataframe\">\n",
       "  <thead>\n",
       "    <tr style=\"text-align: right;\">\n",
       "      <th></th>\n",
       "      <th>Date</th>\n",
       "      <th>Activity</th>\n",
       "      <th>Location</th>\n",
       "      <th>Attendees</th>\n",
       "      <th>Topics</th>\n",
       "      <th>Source</th>\n",
       "    </tr>\n",
       "  </thead>\n",
       "  <tbody>\n",
       "    <tr>\n",
       "      <th>0</th>\n",
       "      <td>December 31, 2003</td>\n",
       "      <td>In his New Year's address, broadcast by China ...</td>\n",
       "      <td>Beijing Municipality</td>\n",
       "      <td>[Hu Jintao]</td>\n",
       "      <td>domestic politics</td>\n",
       "      <td>NaN</td>\n",
       "    </tr>\n",
       "    <tr>\n",
       "      <th>1</th>\n",
       "      <td>December 30, 2003</td>\n",
       "      <td>Hu Jintao and other senior leaders welcomed th...</td>\n",
       "      <td>Beijing Municipality</td>\n",
       "      <td>[Hu Jintao, Cao Gangchuan, Chen Kuiyuan, Chen ...</td>\n",
       "      <td>domestic politics</td>\n",
       "      <td>NaN</td>\n",
       "    </tr>\n",
       "    <tr>\n",
       "      <th>2</th>\n",
       "      <td>December 29, 2003</td>\n",
       "      <td>Hu Jintao met with the US president's special ...</td>\n",
       "      <td>Beijing Municipality</td>\n",
       "      <td>[Hu Jintao, Li Zhaoxing, \\n\\t\\t\\t\\t\\tJames Baker]</td>\n",
       "      <td>foreign relations</td>\n",
       "      <td>NaN</td>\n",
       "    </tr>\n",
       "    <tr>\n",
       "      <th>3</th>\n",
       "      <td>December 26, 2003</td>\n",
       "      <td>Hu Jintao visited the mausoleum of Mao Zedong ...</td>\n",
       "      <td>Beijing Municipality</td>\n",
       "      <td>[Hu Jintao]</td>\n",
       "      <td>domestic politics</td>\n",
       "      <td>NaN</td>\n",
       "    </tr>\n",
       "    <tr>\n",
       "      <th>4</th>\n",
       "      <td>December 26, 2003</td>\n",
       "      <td>Hu Jintao gave the keynote speech at the semin...</td>\n",
       "      <td>Beijing Municipality</td>\n",
       "      <td>[Hu Jintao, Huang Ju, Jia Qinglin, Li Changchu...</td>\n",
       "      <td>domestic politics</td>\n",
       "      <td>NaN</td>\n",
       "    </tr>\n",
       "  </tbody>\n",
       "</table>\n",
       "</div>"
      ],
      "text/plain": [
       "                Date                                           Activity  \\\n",
       "0  December 31, 2003  In his New Year's address, broadcast by China ...   \n",
       "1  December 30, 2003  Hu Jintao and other senior leaders welcomed th...   \n",
       "2  December 29, 2003  Hu Jintao met with the US president's special ...   \n",
       "3  December 26, 2003  Hu Jintao visited the mausoleum of Mao Zedong ...   \n",
       "4  December 26, 2003  Hu Jintao gave the keynote speech at the semin...   \n",
       "\n",
       "               Location                                          Attendees  \\\n",
       "0  Beijing Municipality                                        [Hu Jintao]   \n",
       "1  Beijing Municipality  [Hu Jintao, Cao Gangchuan, Chen Kuiyuan, Chen ...   \n",
       "2  Beijing Municipality  [Hu Jintao, Li Zhaoxing, \\n\\t\\t\\t\\t\\tJames Baker]   \n",
       "3  Beijing Municipality                                        [Hu Jintao]   \n",
       "4  Beijing Municipality  [Hu Jintao, Huang Ju, Jia Qinglin, Li Changchu...   \n",
       "\n",
       "              Topics Source  \n",
       "0  domestic politics    NaN  \n",
       "1  domestic politics    NaN  \n",
       "2  foreign relations    NaN  \n",
       "3  domestic politics    NaN  \n",
       "4  domestic politics    NaN  "
      ]
     },
     "execution_count": 10,
     "metadata": {},
     "output_type": "execute_result"
    }
   ],
   "source": [
    "visits_df.head()"
   ]
  },
  {
   "cell_type": "code",
   "execution_count": 11,
   "metadata": {},
   "outputs": [
    {
     "data": {
      "text/html": [
       "<div>\n",
       "<style scoped>\n",
       "    .dataframe tbody tr th:only-of-type {\n",
       "        vertical-align: middle;\n",
       "    }\n",
       "\n",
       "    .dataframe tbody tr th {\n",
       "        vertical-align: top;\n",
       "    }\n",
       "\n",
       "    .dataframe thead th {\n",
       "        text-align: right;\n",
       "    }\n",
       "</style>\n",
       "<table border=\"1\" class=\"dataframe\">\n",
       "  <thead>\n",
       "    <tr style=\"text-align: right;\">\n",
       "      <th></th>\n",
       "      <th>Date</th>\n",
       "      <th>Activity</th>\n",
       "      <th>Location</th>\n",
       "      <th>Attendees</th>\n",
       "      <th>Topics</th>\n",
       "      <th>Source</th>\n",
       "    </tr>\n",
       "  </thead>\n",
       "  <tbody>\n",
       "    <tr>\n",
       "      <th>5826</th>\n",
       "      <td>January 02, 2019</td>\n",
       "      <td>Xi pledges utmost sincerity for peaceful reuni...</td>\n",
       "      <td>Beijing Municipality</td>\n",
       "      <td>[Xi Jinping]</td>\n",
       "      <td>None</td>\n",
       "      <td>http://www.xinhuanet.com/english/2019-01/02/c_...</td>\n",
       "    </tr>\n",
       "    <tr>\n",
       "      <th>5827</th>\n",
       "      <td>January 02, 2019</td>\n",
       "      <td>Xi expounds best approach to reunification</td>\n",
       "      <td>Beijing Municipality</td>\n",
       "      <td>[Xi Jinping]</td>\n",
       "      <td>None</td>\n",
       "      <td>http://www.xinhuanet.com/english/2019-01/02/c_...</td>\n",
       "    </tr>\n",
       "    <tr>\n",
       "      <th>5828</th>\n",
       "      <td>January 02, 2019</td>\n",
       "      <td>Xi proposes institutional arrangement for peac...</td>\n",
       "      <td>Beijing Municipality</td>\n",
       "      <td>[Xi Jinping]</td>\n",
       "      <td>domestic politics</td>\n",
       "      <td>http://www.xinhuanet.com/english/2019-01/02/c_...</td>\n",
       "    </tr>\n",
       "    <tr>\n",
       "      <th>5829</th>\n",
       "      <td>January 02, 2019</td>\n",
       "      <td>Xi highlights breakthroughs in cross-Strait re...</td>\n",
       "      <td>Beijing Municipality</td>\n",
       "      <td>[Xi Jinping]</td>\n",
       "      <td>domestic politics</td>\n",
       "      <td>http://www.xinhuanet.com/english/2019-01/02/c_...</td>\n",
       "    </tr>\n",
       "    <tr>\n",
       "      <th>5830</th>\n",
       "      <td>January 02, 2019</td>\n",
       "      <td>Xi delivers speech at gathering marking 40th a...</td>\n",
       "      <td>Beijing Municipality</td>\n",
       "      <td>[Xi Jinping]</td>\n",
       "      <td>domestic politics</td>\n",
       "      <td>http://www.xinhuanet.com/english/2019-01/02/c_...</td>\n",
       "    </tr>\n",
       "  </tbody>\n",
       "</table>\n",
       "</div>"
      ],
      "text/plain": [
       "                  Date                                           Activity  \\\n",
       "5826  January 02, 2019  Xi pledges utmost sincerity for peaceful reuni...   \n",
       "5827  January 02, 2019        Xi expounds best approach to reunification    \n",
       "5828  January 02, 2019  Xi proposes institutional arrangement for peac...   \n",
       "5829  January 02, 2019  Xi highlights breakthroughs in cross-Strait re...   \n",
       "5830  January 02, 2019  Xi delivers speech at gathering marking 40th a...   \n",
       "\n",
       "                  Location     Attendees             Topics  \\\n",
       "5826  Beijing Municipality  [Xi Jinping]               None   \n",
       "5827  Beijing Municipality  [Xi Jinping]               None   \n",
       "5828  Beijing Municipality  [Xi Jinping]  domestic politics   \n",
       "5829  Beijing Municipality  [Xi Jinping]  domestic politics   \n",
       "5830  Beijing Municipality  [Xi Jinping]  domestic politics   \n",
       "\n",
       "                                                 Source  \n",
       "5826  http://www.xinhuanet.com/english/2019-01/02/c_...  \n",
       "5827  http://www.xinhuanet.com/english/2019-01/02/c_...  \n",
       "5828  http://www.xinhuanet.com/english/2019-01/02/c_...  \n",
       "5829  http://www.xinhuanet.com/english/2019-01/02/c_...  \n",
       "5830  http://www.xinhuanet.com/english/2019-01/02/c_...  "
      ]
     },
     "execution_count": 11,
     "metadata": {},
     "output_type": "execute_result"
    }
   ],
   "source": [
    "visits_df.tail()"
   ]
  },
  {
   "cell_type": "code",
   "execution_count": 12,
   "metadata": {},
   "outputs": [],
   "source": [
    "visits_df.to_csv(\"../data/all_china_visits.csv\", index=None)"
   ]
  },
  {
   "cell_type": "markdown",
   "metadata": {},
   "source": [
    "After this is done we have a table with all the appearences of current president. Appearences in China need to be filtered out. \n",
    "Also, the beginning of the year 2003 before 15 March has to be removed because they are from the time Jintao was the president.Same goes to the year 2013 when president changed. We need to have Jintao until 15 March and Jinping after that.\n",
    "\n",
    "Also, there are often several entries on one trip so they need to be combined into one. I did this filtering and combining in Google sheets.\n",
    "\n"
   ]
  },
  {
   "cell_type": "markdown",
   "metadata": {},
   "source": [
    "Since China Vitae only tracks since 2003, I collected the visits by Jiang Zemin 2001 and 2002 by hand via Chinese embassies and Xinhua pages. I added them to final database by hand. Source of the visit is included in every data entry."
   ]
  },
  {
   "cell_type": "code",
   "execution_count": null,
   "metadata": {},
   "outputs": [],
   "source": []
  }
 ],
 "metadata": {
  "kernelspec": {
   "display_name": "Python 3",
   "language": "python",
   "name": "python3"
  },
  "language_info": {
   "codemirror_mode": {
    "name": "ipython",
    "version": 3
   },
   "file_extension": ".py",
   "mimetype": "text/x-python",
   "name": "python",
   "nbconvert_exporter": "python",
   "pygments_lexer": "ipython3",
   "version": "3.7.3"
  }
 },
 "nbformat": 4,
 "nbformat_minor": 2
}
